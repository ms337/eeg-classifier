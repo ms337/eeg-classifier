{
  "nbformat": 4,
  "nbformat_minor": 0,
  "metadata": {
    "kernelspec": {
      "display_name": "Python 3",
      "language": "python",
      "name": "python3"
    },
    "language_info": {
      "codemirror_mode": {
        "name": "ipython",
        "version": 3
      },
      "file_extension": ".py",
      "mimetype": "text/x-python",
      "name": "python",
      "nbconvert_exporter": "python",
      "pygments_lexer": "ipython3",
      "version": "3.7.3"
    },
    "colab": {
      "name": "Loading_Script.ipynb",
      "provenance": [],
      "include_colab_link": true
    }
  },
  "cells": [
    {
      "cell_type": "markdown",
      "metadata": {
        "id": "view-in-github",
        "colab_type": "text"
      },
      "source": [
        "<a href=\"https://colab.research.google.com/github/ms337/eegDNNClassifier/blob/master/Loading_Script.ipynb\" target=\"_parent\"><img src=\"https://colab.research.google.com/assets/colab-badge.svg\" alt=\"Open In Colab\"/></a>"
      ]
    },
    {
      "cell_type": "code",
      "metadata": {
        "id": "_q_yrx-z9Rg4",
        "colab_type": "code",
        "colab": {}
      },
      "source": [
        "import numpy as np\n",
        "import pandas as pd\n",
        "from scipy.io import loadmat\n",
        "import os\n",
        "import time\n",
        "import h5py\n",
        "\n"
      ],
      "execution_count": 0,
      "outputs": []
    },
    {
      "cell_type": "markdown",
      "metadata": {
        "id": "ybxEDkWz9Rg8",
        "colab_type": "text"
      },
      "source": [
        "The data is acquired in two sessions. Each image was presented for 20 to 30 times per session.  Each trial starts from -100 ms to 1200ms from image onset. Image is presented for 500ms.\n",
        "Stimuli numbers 13 to 24 are human face images (12 conditions), and stimuli 73:76, 78:80, 83:85, 88:89 are small objects (12 conditions).\n",
        "Use the data in session 1. Please write a script to load data of face images as class1 and data of object images as class2 and then train a SVM classifier to classify these two classes using the data at each time point using a leave one out cross validation procedure and report the classifier accuracy. The classifier is trained and tested on the data at each time point independently.\n",
        "Then plot the decoding time series (classifier accuracy over time) and write a report describing the method, results and conclusion. Let me know if you have any questions or need more information about the data. "
      ]
    },
    {
      "cell_type": "markdown",
      "metadata": {
        "id": "L5aqUn7i9Rg8",
        "colab_type": "text"
      },
      "source": [
        "0 = face\n",
        "1 = smallObj\n",
        "Binary Classifier\n",
        "Each Condition is an Image\n",
        "Each Image has 20 to 30 trials\n",
        "Each trial has 1301 time points and 306 parameters\n",
        "\n"
      ]
    },
    {
      "cell_type": "code",
      "metadata": {
        "id": "8-T1frlf9Rg9",
        "colab_type": "code",
        "colab": {}
      },
      "source": [
        "def load_data(classDirectoryPath):\n",
        "    listOfImgDirs = []\n",
        "    for root, dirs, files in os.walk(classDirectoryPath, topdown=False):\n",
        "        for name in dirs:\n",
        "            listOfImgDirs.append(name)\n",
        "    listOfImgDirs = sorted(listOfImgDirs)\n",
        "    \n",
        "    start=time.time()\n",
        "    count = 0\n",
        "    finalMatrix = np.empty((306,1301), order='F')\n",
        "\n",
        "    for eachImg in listOfImgDirs:\n",
        "        pathOfCond = os.path.join(classDirectoryPath, eachImg)\n",
        "#         print(\"----\")\n",
        "        count = count + 1\n",
        "#         print(count)\n",
        "    #     print(pathOfCond)\n",
        "        for roots, dirs, files in os.walk(pathOfCond):\n",
        "            for eachTrial in sorted(files):\n",
        "                if not (eachTrial == \".DS_Store\"):\n",
        "                    loadData = loadmat(os.path.join(pathOfCond,eachTrial))\n",
        "                    finalMatrix = np.append(finalMatrix,loadData[\"F\"], axis=1)\n",
        "    #             print(os.path.join(pathOfCond,eachTrial))\n",
        "    end=time.time()\n",
        "    print(\"Time taken: \"+ str(end-start))\n",
        "    finalMatrix = finalMatrix[:,1301:]\n",
        "    return finalMatrix\n",
        "    "
      ],
      "execution_count": 0,
      "outputs": []
    },
    {
      "cell_type": "code",
      "metadata": {
        "id": "d9vHTqbY9Rg_",
        "colab_type": "code",
        "colab": {},
        "outputId": "bc02cbaa-db3a-47cb-930f-c7346fad7ccf"
      },
      "source": [
        "faces_X = load_data(\"./face\")\n"
      ],
      "execution_count": 0,
      "outputs": [
        {
          "output_type": "stream",
          "text": [
            "Time taken: 44.97403287887573\n"
          ],
          "name": "stdout"
        }
      ]
    },
    {
      "cell_type": "code",
      "metadata": {
        "id": "-tB36HD89RhC",
        "colab_type": "code",
        "colab": {},
        "outputId": "8ff6ee29-019e-4f89-ed92-bfc1c8be42f1"
      },
      "source": [
        "smallObj_X = load_data(\"./smallObj\")"
      ],
      "execution_count": 0,
      "outputs": [
        {
          "output_type": "stream",
          "text": [
            "Time taken: 43.041918992996216\n"
          ],
          "name": "stdout"
        }
      ]
    },
    {
      "cell_type": "code",
      "metadata": {
        "id": "SMQMTGqd9RhD",
        "colab_type": "code",
        "colab": {},
        "outputId": "de0ea7db-23f0-4f54-f5ff-4e5a496c58cf"
      },
      "source": [
        "print(faces_X.shape)\n",
        "faces_X[0][0]"
      ],
      "execution_count": 0,
      "outputs": [
        {
          "output_type": "stream",
          "text": [
            "(306, 310939)\n"
          ],
          "name": "stdout"
        },
        {
          "output_type": "execute_result",
          "data": {
            "text/plain": [
              "-7.532633119546701e-13"
            ]
          },
          "metadata": {
            "tags": []
          },
          "execution_count": 5
        }
      ]
    },
    {
      "cell_type": "code",
      "metadata": {
        "id": "v2DWGmIk9RhF",
        "colab_type": "code",
        "colab": {}
      },
      "source": [
        ""
      ],
      "execution_count": 0,
      "outputs": []
    },
    {
      "cell_type": "code",
      "metadata": {
        "id": "8cvwJcr29RhH",
        "colab_type": "code",
        "colab": {},
        "outputId": "934014ba-c03d-4dae-d27e-3d7e94eb88bc"
      },
      "source": [
        "np.random.shuffle(faces_X.T)\n",
        "print(faces_X.shape)"
      ],
      "execution_count": 0,
      "outputs": [
        {
          "output_type": "stream",
          "text": [
            "(306, 310939)\n"
          ],
          "name": "stdout"
        }
      ]
    },
    {
      "cell_type": "code",
      "metadata": {
        "id": "wx12en4H9RhJ",
        "colab_type": "code",
        "colab": {},
        "outputId": "bbf9d4d8-044d-4de9-c375-d84ae7ec2ed2"
      },
      "source": [
        "np.random.shuffle(smallObj_X.T)\n",
        "print(smallObj_X.shape)"
      ],
      "execution_count": 0,
      "outputs": [
        {
          "output_type": "stream",
          "text": [
            "(306, 313541)\n"
          ],
          "name": "stdout"
        }
      ]
    },
    {
      "cell_type": "code",
      "metadata": {
        "id": "0ttWqW349RhL",
        "colab_type": "code",
        "colab": {}
      },
      "source": [
        ""
      ],
      "execution_count": 0,
      "outputs": []
    },
    {
      "cell_type": "code",
      "metadata": {
        "id": "WumBgnfa9RhM",
        "colab_type": "code",
        "colab": {}
      },
      "source": [
        "# code to test if shuffling is correct and only columns are switch around\n",
        "# for j in range(0, 310939):\n",
        "#     if (faces_X[0][j] == -7.532633119546701e-13):\n",
        "#         print(j)\n",
        "#         print(\"+++\")\n",
        "#         print(faces_X[:, j])\n"
      ],
      "execution_count": 0,
      "outputs": []
    },
    {
      "cell_type": "markdown",
      "metadata": {
        "id": "flKnmYiV9RhO",
        "colab_type": "text"
      },
      "source": [
        "Need to check if by any chance 1301 entries are getting added to the matrix.\n",
        "Possibly where np.empty is used. \n"
      ]
    },
    {
      "cell_type": "code",
      "metadata": {
        "id": "F2HAPkCp9RhO",
        "colab_type": "code",
        "colab": {}
      },
      "source": [
        "faces_Y = np.zeros((1, faces_X.shape[1]))\n",
        "smallObj_Y = np.ones((1, smallObj_X.shape[1]))\n"
      ],
      "execution_count": 0,
      "outputs": []
    },
    {
      "cell_type": "code",
      "metadata": {
        "id": "Ocmp7OvR9RhQ",
        "colab_type": "code",
        "colab": {}
      },
      "source": [
        "combData_X = np.concatenate((faces_X, smallObj_X), axis = 1)\n",
        "combData_Y = np.concatenate((faces_Y, smallObj_Y), axis = 1)"
      ],
      "execution_count": 0,
      "outputs": []
    },
    {
      "cell_type": "code",
      "metadata": {
        "id": "tRvyNg7p9RhS",
        "colab_type": "code",
        "colab": {},
        "outputId": "1b633f25-4102-4f4d-c087-cb4011407f52"
      },
      "source": [
        "print(combData_X.shape)\n",
        "print(combData_Y.shape)"
      ],
      "execution_count": 0,
      "outputs": [
        {
          "output_type": "stream",
          "text": [
            "(306, 624480)\n",
            "(1, 624480)\n"
          ],
          "name": "stdout"
        }
      ]
    },
    {
      "cell_type": "code",
      "metadata": {
        "id": "6gMZ6w-R9RhV",
        "colab_type": "code",
        "colab": {},
        "outputId": "73f5b9e4-cf17-4ed3-f3b7-bed016183dcd"
      },
      "source": [
        "print(combData_X[124][21418])\n",
        "print(combData_Y[0][21212])"
      ],
      "execution_count": 0,
      "outputs": [
        {
          "output_type": "stream",
          "text": [
            "-5.368013277459939e-12\n",
            "0.0\n"
          ],
          "name": "stdout"
        }
      ]
    },
    {
      "cell_type": "code",
      "metadata": {
        "id": "jTrifiGL9RhX",
        "colab_type": "code",
        "colab": {},
        "outputId": "59303101-1715-46bd-84e7-6652df76802c"
      },
      "source": [
        "permutation = list(np.random.permutation(combData_X.shape[1]))\n",
        "shuffled_X = combData_X[:, permutation]\n",
        "shuffled_Y = combData_Y[:, permutation]\n",
        "print(shuffled_X.shape)\n",
        "print(shuffled_Y.shape)"
      ],
      "execution_count": 0,
      "outputs": [
        {
          "output_type": "stream",
          "text": [
            "(306, 624480)\n",
            "(1, 624480)\n"
          ],
          "name": "stdout"
        }
      ]
    },
    {
      "cell_type": "code",
      "metadata": {
        "id": "PEt8FN-a9RhZ",
        "colab_type": "code",
        "colab": {},
        "outputId": "ed60d840-5a53-4a85-cc62-5c57556c597c"
      },
      "source": [
        "print(shuffled_X[124][21418])\n",
        "print(shuffled_Y[0][21212])\n"
      ],
      "execution_count": 0,
      "outputs": [
        {
          "output_type": "stream",
          "text": [
            "3.2787368105211703e-12\n",
            "1.0\n"
          ],
          "name": "stdout"
        }
      ]
    },
    {
      "cell_type": "code",
      "metadata": {
        "id": "7dgRAqHR9Rha",
        "colab_type": "code",
        "colab": {}
      },
      "source": [
        "# #Check if corresponding columns in X and Y are labelled correctly\n",
        "# for j in range(0, 624480):\n",
        "#     if (shuffled_X[0][j] == -1.5532603192192899e-13):\n",
        "#         print(j)\n",
        "#         print(\"+++\")\n",
        "#         print(shuffled_X[:, j])\n",
        "#         print(shuffled_Y[0][j])"
      ],
      "execution_count": 0,
      "outputs": []
    },
    {
      "cell_type": "code",
      "metadata": {
        "id": "JwMEOdGe9Rhc",
        "colab_type": "code",
        "colab": {},
        "outputId": "9b47822e-11a9-4ae9-c59f-9f8ed092f656"
      },
      "source": [
        "sizeOfTrain = int(0.9*shuffled_X.shape[1])\n",
        "sizeOfDevTest = int(0.95*shuffled_X.shape[1])\n",
        "print(sizeOfTrain)\n",
        "print(sizeOfDevTest)\n",
        "X_train = shuffled_X[:, :sizeOfTrain]\n",
        "Y_train = shuffled_Y[:, :sizeOfTrain]\n",
        "\n",
        "X_dev = shuffled_X[:, sizeOfTrain:sizeOfDevTest]\n",
        "Y_dev = shuffled_Y[:, sizeOfTrain:sizeOfDevTest]\n",
        "\n",
        "X_test = shuffled_X[:, sizeOfDevTest:]\n",
        "Y_test = shuffled_Y[:, sizeOfDevTest:]\n"
      ],
      "execution_count": 0,
      "outputs": [
        {
          "output_type": "stream",
          "text": [
            "562032\n",
            "593256\n"
          ],
          "name": "stdout"
        }
      ]
    },
    {
      "cell_type": "code",
      "metadata": {
        "id": "tH1Zt9rZ9Rhe",
        "colab_type": "code",
        "colab": {},
        "outputId": "28bac1bd-9943-4801-ac4c-06190049d090"
      },
      "source": [
        "print(X_train.shape)\n",
        "print(Y_train.shape)\n",
        "\n",
        "print(X_dev.shape)\n",
        "print(Y_dev.shape)\n",
        "\n",
        "print(X_test.shape)\n",
        "print(Y_test.shape)"
      ],
      "execution_count": 0,
      "outputs": [
        {
          "output_type": "stream",
          "text": [
            "(306, 562032)\n",
            "(1, 562032)\n",
            "(306, 31224)\n",
            "(1, 31224)\n",
            "(306, 31224)\n",
            "(1, 31224)\n"
          ],
          "name": "stdout"
        }
      ]
    },
    {
      "cell_type": "code",
      "metadata": {
        "id": "17lM66Nf9Rhf",
        "colab_type": "code",
        "colab": {}
      },
      "source": [
        "dFile = h5py.File(\"./data.h5\", mode = 'w')\n",
        "dFile.create_dataset(\"X_train\", data=X_train)\n",
        "dFile.create_dataset(\"Y_train\", data=Y_train)\n",
        "dFile.create_dataset(\"X_dev\", data=X_dev)\n",
        "dFile.create_dataset(\"Y_dev\", data=Y_dev)\n",
        "dFile.create_dataset(\"X_test\", data=X_test)\n",
        "dFile.create_dataset(\"Y_test\", data=Y_test)\n",
        "dFile.close()"
      ],
      "execution_count": 0,
      "outputs": []
    },
    {
      "cell_type": "code",
      "metadata": {
        "id": "IZBru4xh9Rhj",
        "colab_type": "code",
        "colab": {}
      },
      "source": [
        ""
      ],
      "execution_count": 0,
      "outputs": []
    }
  ]
}